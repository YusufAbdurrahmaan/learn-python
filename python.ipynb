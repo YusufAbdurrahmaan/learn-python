{
  "nbformat": 4,
  "nbformat_minor": 0,
  "metadata": {
    "colab": {
      "provenance": [],
      "authorship_tag": "ABX9TyME/Xcg4445Rd4+DkCVCMZM",
      "include_colab_link": true
    },
    "kernelspec": {
      "name": "python3",
      "display_name": "Python 3"
    },
    "language_info": {
      "name": "python"
    }
  },
  "cells": [
    {
      "cell_type": "markdown",
      "metadata": {
        "id": "view-in-github",
        "colab_type": "text"
      },
      "source": [
        "<a href=\"https://colab.research.google.com/github/YusufAbdurrahmaan/learn-python/blob/main/python.ipynb\" target=\"_parent\"><img src=\"https://colab.research.google.com/assets/colab-badge.svg\" alt=\"Open In Colab\"/></a>"
      ]
    },
    {
      "cell_type": "code",
      "execution_count": 1,
      "metadata": {
        "colab": {
          "base_uri": "https://localhost:8080/"
        },
        "id": "BDRBFaCQegaL",
        "outputId": "034a7792-7fd4-436c-ddc7-81dc4d1c5bd4"
      },
      "outputs": [
        {
          "output_type": "stream",
          "name": "stdout",
          "text": [
            "luthfi:Tidak lulus\n",
            "celink:Lulus\n",
            "kanjut:Tidak lulus\n"
          ]
        }
      ],
      "source": [
        "siswa = [\n",
        "    {\"nama\": \"luthfi\", \"nilai\": 70},\n",
        "    {\"nama\": \"celink\", \"nilai\": 80},\n",
        "    {\"nama\": \"kanjut\", \"nilai\": 60}\n",
        "]\n",
        "\n",
        "for i in siswa:\n",
        "    if i[\"nilai\"] >= 75:\n",
        "        status = \"Lulus\"\n",
        "    else:\n",
        "        status = \"Tidak lulus\"\n",
        "    print(i[\"nama\"] + \":\" + status)"
      ]
    },
    {
      "cell_type": "code",
      "source": [
        "siswa = [\n",
        "    {\"nama\": \"Dina\", \"nilai\": 92},\n",
        "    {\"nama\": \"Eko\", \"nilai\": 68},\n",
        "    {\"nama\": \"Fajar\", \"nilai\": 75},\n",
        "    {\"nama\": \"Gina\", \"nilai\": 88}\n",
        "]\n",
        "\n",
        "for w in siswa:\n",
        "    if w[\"nilai\"] >= 90:\n",
        "        predikat = \"Sangat Baik\"\n",
        "    elif w[\"nilai\"] >= 80 and w[\"nilai\"] <= 89:\n",
        "        predikat = \"Baik\"\n",
        "    elif w[\"nilai\"] >= 70 and w[\"nilai\"] <= 79:\n",
        "        predikat = \"Cukup\"\n",
        "    elif w[\"nilai\"] < 70:\n",
        "        predikat = \"Perlu Perbaikan\"\n",
        "    print(w[\"nama\"] + \":\" + predikat)"
      ],
      "metadata": {
        "colab": {
          "base_uri": "https://localhost:8080/"
        },
        "id": "9PmAj3xBgnaZ",
        "outputId": "4c29a636-d577-4c4d-9580-ac073f537b14"
      },
      "execution_count": 2,
      "outputs": [
        {
          "output_type": "stream",
          "name": "stdout",
          "text": [
            "Dina:Sangat Baik\n",
            "Eko:Perlu Perbaikan\n",
            "Fajar:Cukup\n",
            "Gina:Baik\n"
          ]
        }
      ]
    },
    {
      "cell_type": "code",
      "source": [
        "data_orang = [\n",
        "    {\"nama\": \"Hani\", \"umur\": 12},\n",
        "    {\"nama\": \"Irwan\", \"umur\": 17},\n",
        "    {\"nama\": \"Joko\", \"umur\": 25},\n",
        "    {\"nama\": \"Kiki\", \"umur\": 65}\n",
        "]\n",
        "for k in data_orang:\n",
        "    u = k[\"umur\"]\n",
        "    if u <= 13:\n",
        "      kategori = \"Anak-Anak\"\n",
        "    elif u <= 17:\n",
        "      kategori = \"Remaja\"\n",
        "    elif u <= 59:\n",
        "      kategori = \"Dewasa\"\n",
        "    elif u >= 60:\n",
        "      kategori = \"Lansia\"\n",
        "    print(k[\"nama\"] + \":\" + kategori)"
      ],
      "metadata": {
        "colab": {
          "base_uri": "https://localhost:8080/"
        },
        "id": "mAhBZ5BokjZA",
        "outputId": "7f37032a-127e-4690-c08d-debe5d7d260f"
      },
      "execution_count": 3,
      "outputs": [
        {
          "output_type": "stream",
          "name": "stdout",
          "text": [
            "Hani:Anak-Anak\n",
            "Irwan:Remaja\n",
            "Joko:Dewasa\n",
            "Kiki:Lansia\n"
          ]
        }
      ]
    },
    {
      "cell_type": "code",
      "source": [
        "data_bmi = [\n",
        "    {\"nama\": \"Lina\", \"berat\": 45, \"tinggi\": 1.55},\n",
        "    {\"nama\": \"Miko\", \"berat\": 70, \"tinggi\": 1.70},\n",
        "    {\"nama\": \"Nina\", \"berat\": 90, \"tinggi\": 1.60}\n",
        "]\n",
        "\n",
        "for b in data_bmi:\n",
        "  bmi = b[\"berat\"] / (b[\"tinggi\"] * b[\"tinggi\"])\n",
        "  if bmi < 18.5:\n",
        "    kategori = \"Kurus\"\n",
        "  elif bmi < 24.9:\n",
        "    kategori = \"Normal\"\n",
        "  elif bmi <= 29.0:\n",
        "    kategori = \"Gemuk\"\n",
        "  elif bmi >= 30:\n",
        "    kategori = \"Obesitas\"\n",
        "  print(f'nama : {b[\"nama\"]}: bmi : {bmi:.1f} ({kategori})')"
      ],
      "metadata": {
        "colab": {
          "base_uri": "https://localhost:8080/"
        },
        "id": "enNpjDN8sNv1",
        "outputId": "c0d9a6de-f072-471d-bf7b-b4f40f83d1ca"
      },
      "execution_count": 4,
      "outputs": [
        {
          "output_type": "stream",
          "name": "stdout",
          "text": [
            "nama : Lina: bmi : 18.7 (Normal)\n",
            "nama : Miko: bmi : 24.2 (Normal)\n",
            "nama : Nina: bmi : 35.2 (Obesitas)\n"
          ]
        }
      ]
    },
    {
      "cell_type": "code",
      "source": [
        "produk = [\n",
        "    {\"nama\": \"Laptop\", \"stok\": 10},\n",
        "    {\"nama\": \"Mouse\", \"stok\": 0},\n",
        "    {\"nama\": \"Keyboard\", \"stok\": 3},\n",
        "    {\"nama\": \"Monitor\", \"stok\": 15}\n",
        "]\n",
        "\n",
        "for l in produk:\n",
        "  s = l[\"stok\"]\n",
        "  if s == 0:\n",
        "    status = \"habis\"\n",
        "  elif s <= 5:\n",
        "    status = \"hampir habis\"\n",
        "  elif s >= 5:\n",
        "    status = \"Tersedia\"\n",
        "  print(l[\"nama\"] + \" : \" + status)"
      ],
      "metadata": {
        "colab": {
          "base_uri": "https://localhost:8080/"
        },
        "id": "UvcpbOvj3MbI",
        "outputId": "57cb51a0-dc17-46f1-9ef1-4d3f375059b1"
      },
      "execution_count": 5,
      "outputs": [
        {
          "output_type": "stream",
          "name": "stdout",
          "text": [
            "Laptop : Tersedia\n",
            "Mouse : habis\n",
            "Keyboard : hampir habis\n",
            "Monitor : Tersedia\n"
          ]
        }
      ]
    },
    {
      "cell_type": "markdown",
      "source": [
        "# **Function**"
      ],
      "metadata": {
        "id": "CW7Ud1MHTZxQ"
      }
    },
    {
      "cell_type": "code",
      "source": [
        "def ucapan(nama):\n",
        "  return f\"Selamat Datang, {nama}\"\n",
        "\n",
        "print(ucapan(\"Yusuf\"))\n",
        "\n"
      ],
      "metadata": {
        "colab": {
          "base_uri": "https://localhost:8080/"
        },
        "id": "F6nMUd-n79wv",
        "outputId": "8c61f90c-e515-419b-e4a2-2439c0d1a4ec"
      },
      "execution_count": 6,
      "outputs": [
        {
          "output_type": "stream",
          "name": "stdout",
          "text": [
            "Selamat Datang, Yusuf\n"
          ]
        }
      ]
    },
    {
      "cell_type": "code",
      "source": [
        "def ucapan2(nama):\n",
        "  pesan = \"Hallo, \" + nama\n",
        "  return pesan\n",
        "\n",
        "hasil_ucapan = ucapan2(\"Yusuf\")\n",
        "print(hasil_ucapan)"
      ],
      "metadata": {
        "colab": {
          "base_uri": "https://localhost:8080/"
        },
        "id": "JnxXICFH9dAX",
        "outputId": "966d6906-c8b0-4021-ef81-a20c04f49cae"
      },
      "execution_count": 7,
      "outputs": [
        {
          "output_type": "stream",
          "name": "stdout",
          "text": [
            "Hallo, Yusuf\n"
          ]
        }
      ]
    },
    {
      "cell_type": "code",
      "source": [
        "def keliling_persegi_panjang(panjang, lebar):\n",
        "  rumus = (2 * panjang) + (2 * lebar)\n",
        "  return rumus\n",
        "\n",
        "print(keliling_persegi_panjang(4,3))"
      ],
      "metadata": {
        "colab": {
          "base_uri": "https://localhost:8080/"
        },
        "id": "WWYcfk0LTYiI",
        "outputId": "3f158e81-748f-4085-d2a6-988984982e8b"
      },
      "execution_count": 8,
      "outputs": [
        {
          "output_type": "stream",
          "name": "stdout",
          "text": [
            "14\n"
          ]
        }
      ]
    },
    {
      "cell_type": "code",
      "source": [
        "def rumus_luas_persegi(panjang, lebar):\n",
        "  rumus = panjang * lebar\n",
        "  return rumus\n",
        "\n",
        "luas1 = rumus_luas_persegi(2,3)\n",
        "kali_dua = luas1 * 2\n",
        "print(luas1)\n",
        "print(kali_dua)"
      ],
      "metadata": {
        "colab": {
          "base_uri": "https://localhost:8080/"
        },
        "id": "jqLQbMxGHpvj",
        "outputId": "9beae579-44ea-40f7-e7d1-3d602718a958"
      },
      "execution_count": 9,
      "outputs": [
        {
          "output_type": "stream",
          "name": "stdout",
          "text": [
            "6\n",
            "12\n"
          ]
        }
      ]
    },
    {
      "cell_type": "code",
      "source": [
        "def cetak_deret(n):\n",
        "  for k in range(n):\n",
        "    print(k)\n",
        "\n",
        "cetak_deret(5)"
      ],
      "metadata": {
        "colab": {
          "base_uri": "https://localhost:8080/"
        },
        "id": "_muVXtB9ShiZ",
        "outputId": "50a794d5-49ea-425a-8974-020a9403ca65"
      },
      "execution_count": 10,
      "outputs": [
        {
          "output_type": "stream",
          "name": "stdout",
          "text": [
            "0\n",
            "1\n",
            "2\n",
            "3\n",
            "4\n"
          ]
        }
      ]
    },
    {
      "cell_type": "code",
      "source": [
        "def hitung_diskon(harga_awal):\n",
        "    def diskon_10persen(harga):\n",
        "        return harga * 0.9\n",
        "\n",
        "    harga_akhir = diskon_10persen(harga_awal)\n",
        "    return harga_akhir\n",
        "\n",
        "print(hitung_diskon(200000))"
      ],
      "metadata": {
        "colab": {
          "base_uri": "https://localhost:8080/"
        },
        "id": "qLACbJFUUFzx",
        "outputId": "503d3f20-7bff-4666-997c-27bce5f287b9"
      },
      "execution_count": 11,
      "outputs": [
        {
          "output_type": "stream",
          "name": "stdout",
          "text": [
            "180000.0\n"
          ]
        }
      ]
    },
    {
      "cell_type": "code",
      "source": [
        "def konversi_suhu(jenis,suhu):\n",
        "  def to_celcius(f):\n",
        "    return (f - 32) * 5/9\n",
        "\n",
        "  def to_fahrenheit(c):\n",
        "    return (c * 9/5) + 32\n",
        "\n",
        "  if jenis == \"C\":\n",
        "    return to_celcius(suhu)\n",
        "  elif jenis == \"F\":\n",
        "    return to_fahrenheit(suhu)\n",
        "\n",
        "print(konversi_suhu(\"C\", 100))\n",
        "print(konversi_suhu(\"F\", 0))\n"
      ],
      "metadata": {
        "colab": {
          "base_uri": "https://localhost:8080/"
        },
        "id": "_fh5HXcoNAGr",
        "outputId": "5e95025f-16eb-4158-9fe4-95cc93088252"
      },
      "execution_count": 12,
      "outputs": [
        {
          "output_type": "stream",
          "name": "stdout",
          "text": [
            "37.77777777777778\n",
            "32.0\n"
          ]
        }
      ]
    },
    {
      "cell_type": "code",
      "source": [
        "def proses_angka(angka):\n",
        "  def kuadrat(x):\n",
        "    return (x ** 2) + 10\n",
        "\n",
        "  return kuadrat(angka)\n",
        "print(proses_angka(3))\n",
        "print(proses_angka(5))"
      ],
      "metadata": {
        "colab": {
          "base_uri": "https://localhost:8080/"
        },
        "id": "7X2kkfxTTsgy",
        "outputId": "96029ae2-f7a4-46cf-cf5c-af67c7059b9d"
      },
      "execution_count": 13,
      "outputs": [
        {
          "output_type": "stream",
          "name": "stdout",
          "text": [
            "19\n",
            "35\n"
          ]
        }
      ]
    },
    {
      "cell_type": "code",
      "source": [
        "def hitung_harga_akhir(harga_awal, kategori):\n",
        "  def get_diskon(kategori):\n",
        "    if kategori == \"pelajar\":\n",
        "        return 0.2\n",
        "    elif kategori == \"member\":\n",
        "        return 0.1\n",
        "    elif kategori == \"umum\":\n",
        "        return 0\n",
        "\n",
        "  diskon = get_diskon(kategori)\n",
        "  harga_akhir = harga_awal - (harga_awal * diskon)\n",
        "  return harga_akhir\n",
        "print(hitung_harga_akhir(100000, \"pelajar\"))\n",
        "print(hitung_harga_akhir(100000, \"member\"))\n",
        "print(hitung_harga_akhir(100000, \"umum\"))"
      ],
      "metadata": {
        "colab": {
          "base_uri": "https://localhost:8080/"
        },
        "id": "D-Nilff9V_K3",
        "outputId": "25b02b92-8cd2-4b24-e37f-1d26bddffb21"
      },
      "execution_count": 14,
      "outputs": [
        {
          "output_type": "stream",
          "name": "stdout",
          "text": [
            "80000.0\n",
            "90000.0\n",
            "100000\n"
          ]
        }
      ]
    },
    {
      "cell_type": "code",
      "source": [
        "data = {\n",
        "    \"negara\" : \"indoneia\"\n",
        "}\n",
        "\n",
        "print(data)"
      ],
      "metadata": {
        "colab": {
          "base_uri": "https://localhost:8080/"
        },
        "id": "JgXiQ0JkbxXk",
        "outputId": "a778822d-343e-4275-f0d4-d160ed9f8474"
      },
      "execution_count": 15,
      "outputs": [
        {
          "output_type": "stream",
          "name": "stdout",
          "text": [
            "{'negara': 'indoneia'}\n"
          ]
        }
      ]
    },
    {
      "cell_type": "markdown",
      "source": [
        "# **Object Oriented Programming**"
      ],
      "metadata": {
        "id": "QoECiwblebpU"
      }
    },
    {
      "cell_type": "code",
      "source": [
        "def tambah(a, b):\n",
        "  return a + b\n",
        "\n",
        "hasil = tambah(1,4)\n",
        "kali_dua = hasil * 2\n",
        "\n",
        "print(kali_dua)"
      ],
      "metadata": {
        "colab": {
          "base_uri": "https://localhost:8080/"
        },
        "id": "KRFA62ByFIWa",
        "outputId": "a8b3114e-9b5b-492f-d357-fdedf6cd4cc8"
      },
      "execution_count": 16,
      "outputs": [
        {
          "output_type": "stream",
          "name": "stdout",
          "text": [
            "10\n"
          ]
        }
      ]
    },
    {
      "cell_type": "code",
      "source": [
        "class Mahasiswa:\n",
        "    kelas = \"reguler\"\n",
        "    def __init__(self, nama, umur):\n",
        "      self.nama = nama\n",
        "      self.umur = umur\n",
        "\n",
        "    def sapa(self):\n",
        "        sapas = \"hallo\"\n",
        "        return sapas\n",
        "\n",
        "mhs1 = Mahasiswa(\"andi\", 18)\n",
        "print(mhs1.sapa())"
      ],
      "metadata": {
        "colab": {
          "base_uri": "https://localhost:8080/"
        },
        "id": "RNhyr8jyWfL0",
        "outputId": "013e6fd6-591e-4bc7-9c0f-3a3aa2a471b4"
      },
      "execution_count": 17,
      "outputs": [
        {
          "output_type": "stream",
          "name": "stdout",
          "text": [
            "hallo\n"
          ]
        }
      ]
    },
    {
      "cell_type": "code",
      "source": [
        "class TV:\n",
        "    def __init__(self, merk, channel):\n",
        "        self.merk = merk\n",
        "        self.channel = channel\n",
        "        self.volume = 10\n",
        "        self.status = \"Mati\"\n",
        "        self.aplikasi_terbuka = []\n",
        "\n",
        "    def nyalakan(self):\n",
        "        self.status = \"Hidup\"\n",
        "        return \"TV menyala\"\n",
        "\n",
        "    def ganti_channel(self, ch):\n",
        "        self.channel = ch\n",
        "        return f\"Channel sekarang: {self.channel}\"\n",
        "\n",
        "    def volume_up(self):\n",
        "        self.volume += 1\n",
        "        return f\"Volume: {self.volume}\"\n",
        "    def buka_aplikasi(self, nama_aplikasi):\n",
        "      if self.status == \"Hidup\":\n",
        "        self.aplikasi_terbuka.append(self.aplikasi_terbuka)\n",
        "        return f\"Aplikasi {nama_aplikasi} dibuka\"\n",
        "      else:\n",
        "        return \"Laptop belum dinyalakan\"\n",
        "\n",
        "tv1 = TV(\"and\", \"indosiar\")\n",
        "tv2 = TV(\"poly\" , \"global\")\n",
        "print(tv1.channel)\n",
        "print(tv1.nyalakan())\n",
        "print(tv1.ganti_channel(\"sctv\"))\n",
        "print(tv1.buka_aplikasi(\"vs code\"))\n",
        "print(tv1.volume_up())\n",
        "print(tv2.ganti_channel(\"rct\"))\n",
        "print(tv2.buka_aplikasi(\"yt\"))\n",
        "print(tv1.nyalakan())\n",
        "print(tv1.buka_aplikasi(\"yt\"))"
      ],
      "metadata": {
        "colab": {
          "base_uri": "https://localhost:8080/"
        },
        "id": "T4tF9wiYmGYu",
        "outputId": "27453fa1-2313-4552-a2e4-cfea0017d4bc"
      },
      "execution_count": 18,
      "outputs": [
        {
          "output_type": "stream",
          "name": "stdout",
          "text": [
            "indosiar\n",
            "TV menyala\n",
            "Channel sekarang: sctv\n",
            "Aplikasi vs code dibuka\n",
            "Volume: 11\n",
            "Channel sekarang: rct\n",
            "Laptop belum dinyalakan\n",
            "TV menyala\n",
            "Aplikasi yt dibuka\n"
          ]
        }
      ]
    },
    {
      "cell_type": "code",
      "source": [
        "class handphone:\n",
        "  def __init__(self, name, color,price, security):\n",
        "    self.name = name\n",
        "    self.color = color\n",
        "    self.price = price\n",
        "    self.__security = security\n",
        "\n",
        "  def change_price(self, c_price):\n",
        "    self.price = c_price\n",
        "    return f\"harga terbaru nya adalah {self.price}\"\n",
        "\n",
        "  def show_security(self):\n",
        "    return f\"code security : {self.__security}\"\n",
        "\n",
        "hp1 = handphone(\"samsung\",\"black\", 1000000, \"G1FJ62LU\")\n",
        "print(hp1.price)\n",
        "print(hp1.change_price(11000000))\n",
        "print(hp1.show_security())"
      ],
      "metadata": {
        "colab": {
          "base_uri": "https://localhost:8080/"
        },
        "id": "SQ0I8jJ2ZIGd",
        "outputId": "c05e2931-c6ff-4f69-bfb1-4feb607579a9"
      },
      "execution_count": 19,
      "outputs": [
        {
          "output_type": "stream",
          "name": "stdout",
          "text": [
            "1000000\n",
            "harga terbaru nya adalah 11000000\n",
            "code security : G1FJ62LU\n"
          ]
        }
      ]
    },
    {
      "cell_type": "code",
      "source": [
        "class accountbank:\n",
        "  def __init__(self, nama, rekening, saldo):\n",
        "    self.nama = nama\n",
        "    self.__rekening = rekening\n",
        "    self.__saldo = saldo\n",
        "    self.__last__jumlah = 0\n",
        "\n",
        "  def change_name(self, new_name):\n",
        "    self.nama = new_name\n",
        "    return f\"nama diubah menjadi : {self.nama}\"\n",
        "\n",
        "  def show_saldo(self):\n",
        "    return f\"saldo anda sekarang berjumlah : {self.__saldo}\"\n",
        "\n",
        "  def show_rekening(self):\n",
        "    return f\"no rekening anda adalah : {self.__rekening}\"\n",
        "\n",
        "  def tarik_uang(self, jumlah):\n",
        "    if jumlah <= self.__saldo:\n",
        "      self.__saldo -= jumlah\n",
        "      self.__last__jumlah = jumlah\n",
        "      return f\"anda melakukan penarikan sejumlah : {jumlah}\"\n",
        "\n",
        "  def show_last(self):\n",
        "      return f\"jumlah terakhir penarikan adalah {self.__last__jumlah}\"\n",
        "\n",
        "ac1 = accountbank(\"yusufp\",\"BC6237\",1000000000)\n",
        "print(ac1.show_rekening())\n",
        "print(ac1.show_saldo())\n",
        "print(ac1.tarik_uang(100000))\n",
        "print(ac1.show_saldo())\n",
        "print(ac1.change_name(\"Yusuf\"))\n",
        "print(ac1.tarik_uang(100000))\n",
        "print(ac1.show_saldo())\n",
        "print(ac1.tarik_uang(200000))\n",
        "print(ac1.show_last())\n",
        "print(ac1.tarik_uang(300000))\n",
        "print(ac1.show_last())"
      ],
      "metadata": {
        "colab": {
          "base_uri": "https://localhost:8080/"
        },
        "id": "-ZpcM1KoDjUW",
        "outputId": "3917eb66-004f-4982-8664-b341a070a10f"
      },
      "execution_count": 20,
      "outputs": [
        {
          "output_type": "stream",
          "name": "stdout",
          "text": [
            "no rekening anda adalah : BC6237\n",
            "saldo anda sekarang berjumlah : 1000000000\n",
            "anda melakukan penarikan sejumlah : 100000\n",
            "saldo anda sekarang berjumlah : 999900000\n",
            "nama diubah menjadi : Yusuf\n",
            "anda melakukan penarikan sejumlah : 100000\n",
            "saldo anda sekarang berjumlah : 999800000\n",
            "anda melakukan penarikan sejumlah : 200000\n",
            "jumlah terakhir penarikan adalah 200000\n",
            "anda melakukan penarikan sejumlah : 300000\n",
            "jumlah terakhir penarikan adalah 300000\n"
          ]
        }
      ]
    },
    {
      "cell_type": "code",
      "source": [
        "class librarybook:\n",
        "  def __init__(self, judul, penulis, stok):\n",
        "    self.judul = judul\n",
        "    self.penulis = penulis\n",
        "    self.__stock__ = stok\n",
        "    self.__last__peminjam = None\n",
        "    self.__jumlah_pinjam_trakhir = 0\n",
        "\n",
        "  def show_stok(self):\n",
        "    return f\"jumlah stok buku {self.judul} berjumlah : {self.__stock__}\"\n",
        "\n",
        "  def tambah_stok(self, jumlah_tambah_stok):\n",
        "      self.__stock__ += jumlah_tambah_stok\n",
        "      return f\"stok anda bertambah {jumlah_tambah_stok}\"\n",
        "\n",
        "  def pinjam(self, nama_peminjam, jumlah_pinjam):\n",
        "    if jumlah_pinjam <= self.__stock__:\n",
        "      self.__stock__ -= jumlah_pinjam\n",
        "      self.__last__peminjam = nama_peminjam\n",
        "      self.__jumlah_pinjam_trakhir = jumlah_pinjam\n",
        "      return f\"nama peminjam : {nama_peminjam}, jumlah di pinjam : {jumlah_pinjam}\"\n",
        "\n",
        "  def kembalikan(self):\n",
        "      self.__stock__ += self.__jumlah_pinjam_trakhir\n",
        "      return f\"jumlah pengembalian buku : {self.__jumlah_pinjam_trakhir}\"\n",
        "\n",
        "  def peminjam_terakhir(self):\n",
        "      if self.__last__peminjam:\n",
        "        return f\"nama terakhir peminjam adalah {self.__last__peminjam}\"\n",
        "      else:\n",
        "        return f\"belum ada peminjam\"\n",
        "\n",
        "satu = librarybook(\"orangs\", \"anonym\", 10)\n",
        "dua = librarybook(\"noman\", \"hehe\", 30)\n",
        "\n",
        "print(satu.show_stok())\n",
        "print(satu.pinjam(\"alib\", 2))\n",
        "print(satu.tambah_stok(100))\n",
        "print(satu.show_stok())\n",
        "print(satu.kembalikan())\n",
        "print(satu.show_stok())\n",
        "print(dua.pinjam(\"upi\", 3))\n",
        "print(dua.show_stok())\n",
        "print(dua.kembalikan())\n",
        "print(dua.show_stok())\n",
        "print(dua.peminjam_terakhir())\n",
        "print(dua.pinjam(\"kanjut\", 3))\n",
        "print(dua.peminjam_terakhir())"
      ],
      "metadata": {
        "colab": {
          "base_uri": "https://localhost:8080/"
        },
        "id": "bUEY5J1rygZe",
        "outputId": "cde87a90-298d-4d12-80db-7d655be6293f"
      },
      "execution_count": 21,
      "outputs": [
        {
          "output_type": "stream",
          "name": "stdout",
          "text": [
            "jumlah stok buku orangs berjumlah : 10\n",
            "nama peminjam : alib, jumlah di pinjam : 2\n",
            "stok anda bertambah 100\n",
            "jumlah stok buku orangs berjumlah : 108\n",
            "jumlah pengembalian buku : 2\n",
            "jumlah stok buku orangs berjumlah : 110\n",
            "nama peminjam : upi, jumlah di pinjam : 3\n",
            "jumlah stok buku noman berjumlah : 27\n",
            "jumlah pengembalian buku : 3\n",
            "jumlah stok buku noman berjumlah : 30\n",
            "nama terakhir peminjam adalah upi\n",
            "nama peminjam : kanjut, jumlah di pinjam : 3\n",
            "nama terakhir peminjam adalah kanjut\n"
          ]
        }
      ]
    },
    {
      "cell_type": "code",
      "source": [
        "class EWallet:\n",
        "  def __init__(self, pemilik, saldo_awal = 0):\n",
        "    self.pemilik = pemilik\n",
        "    self.__saldo__ = saldo_awal\n",
        "    self.__last__topup = 0\n",
        "    self.__last__bayar = 0\n",
        "\n",
        "  def topup(self, jumlah_topup):\n",
        "    self.__saldo__ += jumlah_topup\n",
        "    self.__last__topup = jumlah_topup\n",
        "    return f\"jumlah topup anda sebesar Rp.{jumlah_topup}\"\n",
        "\n",
        "  def bayar(self, jumlah_bayar):\n",
        "    if jumlah_bayar <= self.__saldo__:\n",
        "      self.__saldo__ -= jumlah_bayar\n",
        "      self.__last__bayar = jumlah_bayar\n",
        "      return f\"anda membayar sebesar Rp.{jumlah_bayar}\"\n",
        "    else:\n",
        "      return f\"saldo anda tidka mencukupi\"\n",
        "\n",
        "  def tampil_saldo(self):\n",
        "    return f\"saldo anda saat ini adalah : Rp.{self.__saldo__}\"\n",
        "\n",
        "  def ubah_nama(self, nama_baru):\n",
        "    self.pemilik = nama_baru\n",
        "    return f\"nama anda telah diubah menjadi {self.pemilik}\"\n",
        "\n",
        "  def terakhir_topup(self):\n",
        "    return f\"terakhir penarikan anda adalah sebesar Rp.{self.__last__topup}\"\n",
        "\n",
        "  def terakhir_bayar(self):\n",
        "    return f\"terakhir pembayaran anda adalah sebesar Rp.{self.__last__bayar}\"\n",
        "\n",
        "e1 = EWallet(\"yusuf\", 1000000000)\n",
        "\n",
        "print(e1.topup(200000000))\n",
        "print(e1.tampil_saldo())\n",
        "print(e1.bayar(50000000))\n",
        "print(e1.tampil_saldo())\n",
        "print(e1.terakhir_topup())\n",
        "print(e1.terakhir_bayar())"
      ],
      "metadata": {
        "colab": {
          "base_uri": "https://localhost:8080/"
        },
        "id": "28Xy3oK0FaTq",
        "outputId": "ab8ad867-5867-416d-8074-9830ffb37a85"
      },
      "execution_count": 22,
      "outputs": [
        {
          "output_type": "stream",
          "name": "stdout",
          "text": [
            "jumlah topup anda sebesar Rp.200000000\n",
            "saldo anda saat ini adalah : Rp.1200000000\n",
            "anda membayar sebesar Rp.50000000\n",
            "saldo anda saat ini adalah : Rp.1150000000\n",
            "terakhir penarikan anda adalah sebesar Rp.200000000\n",
            "terakhir pembayaran anda adalah sebesar Rp.50000000\n"
          ]
        }
      ]
    }
  ]
}