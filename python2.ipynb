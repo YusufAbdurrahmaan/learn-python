{
 "cells": [
  {
   "cell_type": "code",
   "execution_count": 79,
   "metadata": {},
   "outputs": [
    {
     "name": "stdout",
     "output_type": "stream",
     "text": [
      "Anda melakukan top up sebesar Rp. 100000\n",
      "100000\n",
      "100000\n",
      "Anda melakukan top up sebesar Rp. 200000\n",
      "300000\n",
      "anda membayar sebesar Rp. 10000\n",
      "290000\n"
     ]
    }
   ],
   "source": [
    "class bankaccount:\n",
    "    def __init__(self, username):\n",
    "        self.username = username\n",
    "        self.jumlah_saldo = 0\n",
    "        self.jumlah_terakhir_topup = 0\n",
    "        self.jumlah_terakhir_bayar = 0\n",
    "        \n",
    "    def lihat_nama(self): \n",
    "        return f\"Nama Account anda adalah {self.username}\"\n",
    "    \n",
    "    def topup(self, jumlah_topup):\n",
    "        self.jumlah_saldo += jumlah_topup\n",
    "        self. jumlah_terakhir_topup = jumlah_topup\n",
    "        return f\"Anda melakukan top up sebesar Rp. {jumlah_topup}\"\n",
    "    \n",
    "    def bayar(self, jumlah_bayar):\n",
    "        if self.jumlah_saldo >= jumlah_bayar:\n",
    "            self.jumlah_saldo -= jumlah_bayar\n",
    "            return f\"anda membayar sebesar Rp. {jumlah_bayar}\"\n",
    "        else:\n",
    "            return f\"Saldo anda tidak mencukupi untuk melakukan pembayaran\"\n",
    "        jumlah_terakhir_bayar = jumlah_bayar\n",
    "        \n",
    "akun1 = bankaccount(\"arif\")\n",
    "\n",
    "print(akun1.topup(100000))\n",
    "print(akun1.jumlah_terakhir_topup)\n",
    "print(akun1.jumlah_saldo)\n",
    "print(akun1.topup(200000))\n",
    "print(akun1.jumlah_saldo)\n",
    "print(akun1.bayar(10000))\n",
    "print(akun1.jumlah_saldo)"
   ]
  }
 ],
 "metadata": {
  "kernelspec": {
   "display_name": "Python 3",
   "language": "python",
   "name": "python3"
  },
  "language_info": {
   "codemirror_mode": {
    "name": "ipython",
    "version": 3
   },
   "file_extension": ".py",
   "mimetype": "text/x-python",
   "name": "python",
   "nbconvert_exporter": "python",
   "pygments_lexer": "ipython3",
   "version": "3.12.2"
  }
 },
 "nbformat": 4,
 "nbformat_minor": 2
}
